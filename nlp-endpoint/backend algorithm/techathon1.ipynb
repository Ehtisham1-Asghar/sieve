{
  "nbformat": 4,
  "nbformat_minor": 0,
  "metadata": {
    "colab": {
      "name": "techathon1.ipynb",
      "provenance": []
    },
    "kernelspec": {
      "name": "python3",
      "display_name": "Python 3"
    },
    "language_info": {
      "name": "python"
    }
  },
  "cells": [
    {
      "cell_type": "code",
      "metadata": {
        "colab": {
          "resources": {
            "http://localhost:8080/nbextensions/google.colab/files.js": {
              "data": "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",
              "ok": true,
              "headers": [
                [
                  "content-type",
                  "application/javascript"
                ]
              ],
              "status": 200,
              "status_text": "OK"
            }
          },
          "base_uri": "https://localhost:8080/",
          "height": 126
        },
        "id": "ZXdA9qLpjrkP",
        "outputId": "fe20d935-2e15-45f5-f3ae-05aa74b837c8"
      },
      "source": [
        "from google.colab import files\n",
        "\n",
        "uploaded = files.upload()"
      ],
      "execution_count": 1,
      "outputs": [
        {
          "output_type": "display_data",
          "data": {
            "text/html": [
              "\n",
              "     <input type=\"file\" id=\"files-b755c11e-38c4-4a6b-88e9-9329d8db7f23\" name=\"files[]\" multiple disabled\n",
              "        style=\"border:none\" />\n",
              "     <output id=\"result-b755c11e-38c4-4a6b-88e9-9329d8db7f23\">\n",
              "      Upload widget is only available when the cell has been executed in the\n",
              "      current browser session. Please rerun this cell to enable.\n",
              "      </output>\n",
              "      <script src=\"/nbextensions/google.colab/files.js\"></script> "
            ],
            "text/plain": [
              "<IPython.core.display.HTML object>"
            ]
          },
          "metadata": {
            "tags": []
          }
        },
        {
          "output_type": "stream",
          "text": [
            "Saving Sheetal_feb.docx.pdf to Sheetal_feb.docx.pdf\n",
            "Saving shjobdescription.txt to shjobdescription.txt\n"
          ],
          "name": "stdout"
        }
      ]
    },
    {
      "cell_type": "code",
      "metadata": {
        "colab": {
          "base_uri": "https://localhost:8080/",
          "height": 591
        },
        "id": "C5fddhMak9kb",
        "outputId": "75c7df0b-564e-4ece-be2d-d47295d8fd75"
      },
      "source": [
        "pip install textract"
      ],
      "execution_count": 5,
      "outputs": [
        {
          "output_type": "stream",
          "text": [
            "Requirement already satisfied: textract in /usr/local/lib/python3.7/dist-packages (1.6.3)\n",
            "Collecting pdfminer.six==20181108\n",
            "  Using cached https://files.pythonhosted.org/packages/8a/fd/6e8746e6965d1a7ea8e97253e3d79e625da5547e8f376f88de5d024bacb9/pdfminer.six-20181108-py2.py3-none-any.whl\n",
            "Requirement already satisfied: extract-msg==0.23.1 in /usr/local/lib/python3.7/dist-packages (from textract) (0.23.1)\n",
            "Requirement already satisfied: docx2txt==0.8 in /usr/local/lib/python3.7/dist-packages (from textract) (0.8)\n",
            "Requirement already satisfied: chardet==3.0.4 in /usr/local/lib/python3.7/dist-packages (from textract) (3.0.4)\n",
            "Requirement already satisfied: beautifulsoup4==4.8.0 in /usr/local/lib/python3.7/dist-packages (from textract) (4.8.0)\n",
            "Requirement already satisfied: six==1.12.0 in /usr/local/lib/python3.7/dist-packages (from textract) (1.12.0)\n",
            "Requirement already satisfied: SpeechRecognition==3.8.1 in /usr/local/lib/python3.7/dist-packages (from textract) (3.8.1)\n",
            "Requirement already satisfied: xlrd==1.2.0 in /usr/local/lib/python3.7/dist-packages (from textract) (1.2.0)\n",
            "Requirement already satisfied: python-pptx==0.6.18 in /usr/local/lib/python3.7/dist-packages (from textract) (0.6.18)\n",
            "Requirement already satisfied: argcomplete==1.10.0 in /usr/local/lib/python3.7/dist-packages (from textract) (1.10.0)\n",
            "Requirement already satisfied: EbookLib==0.17.1 in /usr/local/lib/python3.7/dist-packages (from textract) (0.17.1)\n",
            "Requirement already satisfied: sortedcontainers in /usr/local/lib/python3.7/dist-packages (from pdfminer.six==20181108->textract) (2.4.0)\n",
            "Requirement already satisfied: pycryptodome in /usr/local/lib/python3.7/dist-packages (from pdfminer.six==20181108->textract) (3.10.1)\n",
            "Requirement already satisfied: olefile==0.46 in /usr/local/lib/python3.7/dist-packages (from extract-msg==0.23.1->textract) (0.46)\n",
            "Requirement already satisfied: imapclient==2.1.0 in /usr/local/lib/python3.7/dist-packages (from extract-msg==0.23.1->textract) (2.1.0)\n",
            "Requirement already satisfied: tzlocal==1.5.1 in /usr/local/lib/python3.7/dist-packages (from extract-msg==0.23.1->textract) (1.5.1)\n",
            "Requirement already satisfied: soupsieve>=1.2 in /usr/local/lib/python3.7/dist-packages (from beautifulsoup4==4.8.0->textract) (2.2.1)\n",
            "Requirement already satisfied: lxml>=3.1.0 in /usr/local/lib/python3.7/dist-packages (from python-pptx==0.6.18->textract) (4.2.6)\n",
            "Requirement already satisfied: Pillow>=3.3.2 in /usr/local/lib/python3.7/dist-packages (from python-pptx==0.6.18->textract) (7.1.2)\n",
            "Requirement already satisfied: XlsxWriter>=0.5.7 in /usr/local/lib/python3.7/dist-packages (from python-pptx==0.6.18->textract) (1.4.3)\n",
            "Requirement already satisfied: pytz in /usr/local/lib/python3.7/dist-packages (from tzlocal==1.5.1->extract-msg==0.23.1->textract) (2018.9)\n",
            "Installing collected packages: pdfminer.six\n",
            "  Found existing installation: pdfminer.six 20200124\n",
            "    Uninstalling pdfminer.six-20200124:\n",
            "      Successfully uninstalled pdfminer.six-20200124\n",
            "Successfully installed pdfminer.six-20181108\n"
          ],
          "name": "stdout"
        },
        {
          "output_type": "display_data",
          "data": {
            "application/vnd.colab-display-data+json": {
              "pip_warning": {
                "packages": [
                  "pdfminer"
                ]
              }
            }
          },
          "metadata": {
            "tags": []
          }
        }
      ]
    },
    {
      "cell_type": "code",
      "metadata": {
        "id": "XN1STRFIrTk9"
      },
      "source": [
        "import textract\n",
        "resume = textract.process(\"Sheetal_feb.docx.pdf\")\n",
        "jobdescription = textract.process('shjobdescription.txt')"
      ],
      "execution_count": 6,
      "outputs": []
    },
    {
      "cell_type": "code",
      "metadata": {
        "colab": {
          "base_uri": "https://localhost:8080/"
        },
        "id": "CYHXaT0JrukN",
        "outputId": "4189476f-4834-4bd3-d38c-e41d78a6db48"
      },
      "source": [
        "print(resume)\n",
        "print(jobdescription)"
      ],
      "execution_count": 7,
      "outputs": [
        {
          "output_type": "stream",
          "text": [
            "b\"SHEETAL SINGH\\nTHIRD YEAR UNDERGRADUATE\\nINFORMATION TECHNOLOGY\\nPh: (+91) 6388882050\\nEmail : sheetalsinghssr@gmail.com\\n\\nCAREER OBJECTIVE\\nI am a third-year undergraduate looking for challenges to apply my knowledge in software development. I am highly motivated to\\nlearn new technologies and work in a collaborative environment.\\n\\nEDUCATION\\n\\nCOURSE\\n\\nINSTITUTE\\n\\nYEAR\\n\\nPERFORMANCE\\n\\nBachelor of Technology,\\nMajor in Information\\nTechnology  Engineering\\n\\nIndian Institute of Information\\nTechnology Bhopal\\nBhopal, India\\n\\nJuly\\xe2\\x80\\x9918-Present\\n\\nCGPA 9.36 / 10\\n\\n12th CBSE, Higher\\nSecondary School\\n\\nDelhi Public School, Varanasi\\n\\n2017-2018\\n\\n94%\\n\\n10th CBSE, High School\\n\\nDelhi Public School, Varanasi\\n\\n2015-2016\\n\\nCGPA 10 / 10\\n\\nSKILLS\\n\\nProgramming Language - Python | C++ | Javascript\\nTools - Git | Github | Anaconda | Node.js | VSCode | Jupyter Notebook | Azure ML Studio\\nDatabase - MySQL | Firebase\\nLibraries - React | Material-UI | Semantic-UI | Scikit-learn | bootstrap | Matplotlib | seaborn | Tensorflow | Keras\\nFramework - Express.js | Flask | Next.js\\n\\nPROJECTS / TRAININGS / INTERNSHIPS / WORKSHOPS\\n\\nAI-Assistant\\n\\n2020 August\\n\\nAI assistant made using python libraries - pyttsx3, Speech recognition and date and time. Features such as greeting,\\ntell date and time, send an email, play a song from a local library, search Wikipedia, exit is implemented on speech\\nrecognition.\\n\\nGITHUB: LINK\\n\\nJP MORGAN CHASE AND CO. - Software Engineering Virtual Internship\\n\\n2020 May\\n\\n-Interface with a stock price data feed\\n-Use JPMorgan Chase frameworks and tools\\n-Display data visually for traders\\n\\nCOVID-19_Tracker - React | Material-UI | API | Chart.js\\n\\n2020 April\\n\\nA dashboard for live updates of COVID infections, deaths, and recoveries around the world in real-time.Data\\nvisualization using chart.js library.\\n\\nGITHUB: LINK\\n\\nNetflix_Marvel\\n\\n2020 September\\n\\nMade a Net\\xef\\xac\\x82ix UI inspired Marvel Comic viewing Website. Used Marvel API, Reactjs components,\\nstyled-components and Axios.\\n\\nGITHUB: LINK\\n\\n\\x0cCarcinoma : Skin Cancer Detection\\n\\n2020 November\\n\\nA tool to detect and classify skin cancer using deep learning based image classi\\xef\\xac\\x81cation. It is available as a mobile\\napplication (Android / IOS) and web application. It is built using ISIC 2019 Dataset, which classi\\xef\\xac\\x81es a skin lesion in\\n8 categories, which includes 'Melanoma', 'Melanocytic nevus' and 'Basal cell carcinoma'. I worked on the web\\napplication built using a model trained in tensor\\xef\\xac\\x82ow with \\xef\\xac\\x82ask backend and HTML/CSS and javascript. Bootstrap\\nis used for responsive design.\\nGITHUB: LINK\\n\\nPOSITION OF RESPONSIBILITIES\\n\\nTechnical Writing Consultant | LOGOS Transformation Pvt Ltd\\nTechnical writing for organisations for 7 months. Worked with clients such as Coding Ninjas and Aleap Institution.\\n\\n2020 June - January 2021\\n\\nCrio.do Open-source Contributor | Crio.do\\nContributed to two different projects of Crio.do .In the \\xe2\\x80\\x9cI believe in doing challenge\\xe2\\x80\\x9d of hacktoberfest, 2020. I\\nsuccessfully created a complete micro-byte on \\xe2\\x80\\x9cBasics of MySQL\\xe2\\x80\\x9d. I made a contribution in the crio.do projects\\nrepository. It is a dedicated section on the website to showcase projects with instructional design. I made a\\nWhatsApp clone project using reactjs and firebase to replicate the functioning of WhatsApp with google\\nauthentication.\\n\\n2020 November - January 2021\\n\\nPUBLICATION\\n\\nLinking Technology to reduce suicide ideation in Indian farmers\\n\\n2019 June\\n\\nThe paper is published in the International  Journal for Innovative Research in Multidisciplinary Field. The project\\naims at creating a solution for the protection of crops from unseasonal rain and hails using technologies like IoT,\\nDATA SCIENCE, etc. This will subsequently reduce the suicide rate among farmers.\\n\\nPaper: LINK\\n\\nEXTRA-CURRICULAR ACTIVITIES\\n\\nSports\\n\\nWon gold medals for 100m and 200m race at Inter-branch college sports fest - Sporlumina.\\n\\nRELEVANT COURSES\\n\\nDeep Learning and Neural Network(NG Andrew)\\n\\nData Structures Algorithms       Software Development(Coursera)\\n\\nDatabase Management       Object Oriented Programming Machine Learning(Mathworks)    Web Development(Udemy)\\n\\nKaggle Microcourses\\n\\nPERSONAL DETAILS\\n\\nGender: Female\\nKnown Language: English, Hindi\\nCurrent Address: N10/74b-2c New Colony, DLW road, 221004, Varanasi(U.P), India\\nPermanent Address: N10/74b-2c New Colony, DLW road, 221004, Varanasi(U.P), India\\nAlternate Phone Number: 6388882050\\nAlternate Email: sheetalsinghnew@gmail.com\\nRelated Profile: Linkedin GitHub Hackerrank HackerEarth Codechef Kaggle\\n\\nDate of Birth:1 JULY, 2000\\n\\nCerti\\xef\\xac\\x81cates: Link\\n\\n\\x0c\"\n",
            "b\"\\nHuman resources (HR) officers are responsible for hiring, developing and looking after employees. This involves functions such as training and monitoring performance.\\n\\n    Some employers offer financial assistance and study leave to enable employees to gain an approved CIPD qualification.\\n\\nWhat does a personnel officer do? Typical employers | Qualifications and training | Key skills\\n\\nHR officers can be generalists who perform a broad range of duties, or specialists who focus on a particular area. Specialisms include employee relations, careers coaching, health and safety and headhunting. If you want to find out about all of the specialisms on offer, head to the HR areas of work section.\\n\\nTypical responsibilities include:\\n\\n    recruiting, training and developing staff\\n    making sure that staff get paid correctly and on time\\n    pensions and benefits administration\\n    approving job descriptions and advertisements\\n    looking after the health, safety and welfare of all employees\\n    organising staff training sessions and activities\\n    monitoring staff performance and attendance\\n    advising line managers and other employees on employment law and the employer's own employment policies and procedures\\n    ensuring candidates have the right to work at the organisation\\n    negotiating salaries, contracts, working conditions or redundancy packages with staff and representatives.\\n\\nWhile a general HR officer will take on a mixture of these responsibilities, larger organisations often recruit specialist staff to take on one of these responsibilities as their entire role.\\n\\nRead our article on whether a career in HR is right for you to find out more about what this career involves.\\nTypical employers of HR officers\\n\\nAny organisation will require a HR officer. Smaller companies may have only one HR officer, while larger companies and public sector organisations will have HR departments.\\n\\nTypical employers can include:\\n\\n    Manufacturers\\n    Retailers\\n    Banks\\n    Local authorities\\n    Industrial organisations\\n    Charities\\n    HR agencies\\n\\nVacancies are advertised at TARGETjobs, in careers services, national newspapers and in specialist publications such as Personnel Today, People Management and their respective websites. Recruitment agencies, local newspapers and job centres often advertise immediate/junior vacancies. There are also graduate training schemes offered by many organisations in this area of work. Take a look at our list of employers who offer HR graduate training schemes.\\nQualifications and training required\\n\\nA degree or higher national diploma (HND) in a relevant subject such as HR management or business may be required for some posts. However, some HR graduate schemes welcome applicants from any degree discipline.\\n\\nIt is possible to enter a career in HR by completing a relevant apprenticeship, such as a higher apprenticeship in HR management. To find out more about how you can get into this career via a school leaver route (eg a school leaver training programme), see the business section, of TARGETcareers, our website aimed at school leavers.\\n\\nSome employers may also ask that you have a professional qualification in HR management. A list of courses is available on the Chartered Institute of Personnel and Development\\xe2\\x80\\x99s (CIPD\\xe2\\x80\\x99s) website. A postgraduate qualification in HR management may be advantageous.\\n\\nMembership with the Chartered Institute of Personnel and Development (CIPD) offers opportunities for continuing professional development (CPD) and can help to show your commitment to your field. You can become a member by obtaining a CIPD qualification or through experience assessment, where you use your experience from the past three years to gain professional recognition.\\n\\nRelevant experience is often essential and can be gained in any commercial area through placements or vacation work. It may be necessary to enter the profession at a junior level, or to move into HR work following a general management training scheme.\\nKey skills for HR officers\\n\\n    Commercial awareness\\n    Effective organisational skills\\n    Ability to form working relationships with people at all levels\\n    Teamwork skills\\n    Interpersonal skills\\n    Meticulous attention to detail\\n    Numerical skills\\n    IT skills\\n\\n\"\n"
          ],
          "name": "stdout"
        }
      ]
    },
    {
      "cell_type": "code",
      "metadata": {
        "colab": {
          "base_uri": "https://localhost:8080/"
        },
        "id": "UFOtn6nUTeWH",
        "outputId": "f210a41e-ef6e-4a0c-db30-2cba233fac4d"
      },
      "source": [
        "#list\n",
        "text = [resume,jobdescription]\n",
        "print(text[0])"
      ],
      "execution_count": 12,
      "outputs": [
        {
          "output_type": "stream",
          "text": [
            "b\"SHEETAL SINGH\\nTHIRD YEAR UNDERGRADUATE\\nINFORMATION TECHNOLOGY\\nPh: (+91) 6388882050\\nEmail : sheetalsinghssr@gmail.com\\n\\nCAREER OBJECTIVE\\nI am a third-year undergraduate looking for challenges to apply my knowledge in software development. I am highly motivated to\\nlearn new technologies and work in a collaborative environment.\\n\\nEDUCATION\\n\\nCOURSE\\n\\nINSTITUTE\\n\\nYEAR\\n\\nPERFORMANCE\\n\\nBachelor of Technology,\\nMajor in Information\\nTechnology  Engineering\\n\\nIndian Institute of Information\\nTechnology Bhopal\\nBhopal, India\\n\\nJuly\\xe2\\x80\\x9918-Present\\n\\nCGPA 9.36 / 10\\n\\n12th CBSE, Higher\\nSecondary School\\n\\nDelhi Public School, Varanasi\\n\\n2017-2018\\n\\n94%\\n\\n10th CBSE, High School\\n\\nDelhi Public School, Varanasi\\n\\n2015-2016\\n\\nCGPA 10 / 10\\n\\nSKILLS\\n\\nProgramming Language - Python | C++ | Javascript\\nTools - Git | Github | Anaconda | Node.js | VSCode | Jupyter Notebook | Azure ML Studio\\nDatabase - MySQL | Firebase\\nLibraries - React | Material-UI | Semantic-UI | Scikit-learn | bootstrap | Matplotlib | seaborn | Tensorflow | Keras\\nFramework - Express.js | Flask | Next.js\\n\\nPROJECTS / TRAININGS / INTERNSHIPS / WORKSHOPS\\n\\nAI-Assistant\\n\\n2020 August\\n\\nAI assistant made using python libraries - pyttsx3, Speech recognition and date and time. Features such as greeting,\\ntell date and time, send an email, play a song from a local library, search Wikipedia, exit is implemented on speech\\nrecognition.\\n\\nGITHUB: LINK\\n\\nJP MORGAN CHASE AND CO. - Software Engineering Virtual Internship\\n\\n2020 May\\n\\n-Interface with a stock price data feed\\n-Use JPMorgan Chase frameworks and tools\\n-Display data visually for traders\\n\\nCOVID-19_Tracker - React | Material-UI | API | Chart.js\\n\\n2020 April\\n\\nA dashboard for live updates of COVID infections, deaths, and recoveries around the world in real-time.Data\\nvisualization using chart.js library.\\n\\nGITHUB: LINK\\n\\nNetflix_Marvel\\n\\n2020 September\\n\\nMade a Net\\xef\\xac\\x82ix UI inspired Marvel Comic viewing Website. Used Marvel API, Reactjs components,\\nstyled-components and Axios.\\n\\nGITHUB: LINK\\n\\n\\x0cCarcinoma : Skin Cancer Detection\\n\\n2020 November\\n\\nA tool to detect and classify skin cancer using deep learning based image classi\\xef\\xac\\x81cation. It is available as a mobile\\napplication (Android / IOS) and web application. It is built using ISIC 2019 Dataset, which classi\\xef\\xac\\x81es a skin lesion in\\n8 categories, which includes 'Melanoma', 'Melanocytic nevus' and 'Basal cell carcinoma'. I worked on the web\\napplication built using a model trained in tensor\\xef\\xac\\x82ow with \\xef\\xac\\x82ask backend and HTML/CSS and javascript. Bootstrap\\nis used for responsive design.\\nGITHUB: LINK\\n\\nPOSITION OF RESPONSIBILITIES\\n\\nTechnical Writing Consultant | LOGOS Transformation Pvt Ltd\\nTechnical writing for organisations for 7 months. Worked with clients such as Coding Ninjas and Aleap Institution.\\n\\n2020 June - January 2021\\n\\nCrio.do Open-source Contributor | Crio.do\\nContributed to two different projects of Crio.do .In the \\xe2\\x80\\x9cI believe in doing challenge\\xe2\\x80\\x9d of hacktoberfest, 2020. I\\nsuccessfully created a complete micro-byte on \\xe2\\x80\\x9cBasics of MySQL\\xe2\\x80\\x9d. I made a contribution in the crio.do projects\\nrepository. It is a dedicated section on the website to showcase projects with instructional design. I made a\\nWhatsApp clone project using reactjs and firebase to replicate the functioning of WhatsApp with google\\nauthentication.\\n\\n2020 November - January 2021\\n\\nPUBLICATION\\n\\nLinking Technology to reduce suicide ideation in Indian farmers\\n\\n2019 June\\n\\nThe paper is published in the International  Journal for Innovative Research in Multidisciplinary Field. The project\\naims at creating a solution for the protection of crops from unseasonal rain and hails using technologies like IoT,\\nDATA SCIENCE, etc. This will subsequently reduce the suicide rate among farmers.\\n\\nPaper: LINK\\n\\nEXTRA-CURRICULAR ACTIVITIES\\n\\nSports\\n\\nWon gold medals for 100m and 200m race at Inter-branch college sports fest - Sporlumina.\\n\\nRELEVANT COURSES\\n\\nDeep Learning and Neural Network(NG Andrew)\\n\\nData Structures Algorithms       Software Development(Coursera)\\n\\nDatabase Management       Object Oriented Programming Machine Learning(Mathworks)    Web Development(Udemy)\\n\\nKaggle Microcourses\\n\\nPERSONAL DETAILS\\n\\nGender: Female\\nKnown Language: English, Hindi\\nCurrent Address: N10/74b-2c New Colony, DLW road, 221004, Varanasi(U.P), India\\nPermanent Address: N10/74b-2c New Colony, DLW road, 221004, Varanasi(U.P), India\\nAlternate Phone Number: 6388882050\\nAlternate Email: sheetalsinghnew@gmail.com\\nRelated Profile: Linkedin GitHub Hackerrank HackerEarth Codechef Kaggle\\n\\nDate of Birth:1 JULY, 2000\\n\\nCerti\\xef\\xac\\x81cates: Link\\n\\n\\x0c\"\n"
          ],
          "name": "stdout"
        }
      ]
    },
    {
      "cell_type": "code",
      "metadata": {
        "id": "a7pUg33MipEh"
      },
      "source": [
        "from sklearn.feature_extraction.text import CountVectorizer\n",
        "\n",
        "cv = CountVectorizer()\n",
        "count_matrix = cv.fit_transform(text)"
      ],
      "execution_count": 10,
      "outputs": []
    },
    {
      "cell_type": "code",
      "metadata": {
        "colab": {
          "base_uri": "https://localhost:8080/"
        },
        "id": "BArUoL_Hi4T2",
        "outputId": "3b3b3ff3-c136-41f4-d83f-3a24692134c4"
      },
      "source": [
        "from sklearn.metrics.pairwise import cosine_similarity\n",
        "\n",
        "#print the similarity score\n",
        "print(\"\\n Similarity Score: \")\n",
        "print(cosine_similarity(count_matrix))"
      ],
      "execution_count": 11,
      "outputs": [
        {
          "output_type": "stream",
          "text": [
            "\n",
            " Similarity Score: \n",
            "[[1.         0.49031166]\n",
            " [0.49031166 1.        ]]\n"
          ],
          "name": "stdout"
        }
      ]
    },
    {
      "cell_type": "code",
      "metadata": {
        "colab": {
          "base_uri": "https://localhost:8080/"
        },
        "id": "zLkAk8eTjPYt",
        "outputId": "58cd831f-762a-45a2-b4bd-a6748fd005bb"
      },
      "source": [
        "#match percentage\n",
        "\n",
        "matchpercent = cosine_similarity(count_matrix)[0][1]*100\n",
        "matchpercent = round(matchpercent,2)\n",
        "print(\"Your Resume matches about \" + str(matchpercent) + \"% of the job\")"
      ],
      "execution_count": 16,
      "outputs": [
        {
          "output_type": "stream",
          "text": [
            "Your Resume matches about 49.03% of the job\n"
          ],
          "name": "stdout"
        }
      ]
    },
    {
      "cell_type": "code",
      "metadata": {
        "colab": {
          "base_uri": "https://localhost:8080/"
        },
        "id": "3cJxitJCoOf6",
        "outputId": "d5a112f1-4795-4fb1-dce2-3594518125ac"
      },
      "source": [
        "!pip install yake"
      ],
      "execution_count": 24,
      "outputs": [
        {
          "output_type": "stream",
          "text": [
            "Collecting yake\n",
            "\u001b[?25l  Downloading https://files.pythonhosted.org/packages/ff/7f/c4de4fb40639ec674f944d82e5b0be5a5a9162fc8e83e379ab10b83ee1f9/yake-0.4.8-py2.py3-none-any.whl (60kB)\n",
            "\r\u001b[K     |█████▌                          | 10kB 16.3MB/s eta 0:00:01\r\u001b[K     |███████████                     | 20kB 20.1MB/s eta 0:00:01\r\u001b[K     |████████████████▍               | 30kB 23.9MB/s eta 0:00:01\r\u001b[K     |█████████████████████▉          | 40kB 27.0MB/s eta 0:00:01\r\u001b[K     |███████████████████████████▎    | 51kB 29.6MB/s eta 0:00:01\r\u001b[K     |████████████████████████████████| 61kB 7.0MB/s \n",
            "\u001b[?25hRequirement already satisfied: tabulate in /usr/local/lib/python3.7/dist-packages (from yake) (0.8.9)\n",
            "Collecting jellyfish\n",
            "\u001b[?25l  Downloading https://files.pythonhosted.org/packages/30/a6/4d039bc827a102f62ce7a7910713e38fdfd7c7a40aa39c72fb14938a1473/jellyfish-0.8.2-cp37-cp37m-manylinux2014_x86_64.whl (90kB)\n",
            "\u001b[K     |████████████████████████████████| 92kB 11.0MB/s \n",
            "\u001b[?25hRequirement already satisfied: networkx in /usr/local/lib/python3.7/dist-packages (from yake) (2.5.1)\n",
            "Collecting segtok\n",
            "  Downloading https://files.pythonhosted.org/packages/41/08/582dab5f4b1d5ca23bc6927b4bb977c8ff7f3a87a3b98844ef833e2f5623/segtok-1.5.10.tar.gz\n",
            "Requirement already satisfied: numpy in /usr/local/lib/python3.7/dist-packages (from yake) (1.19.5)\n",
            "Requirement already satisfied: click>=6.0 in /usr/local/lib/python3.7/dist-packages (from yake) (7.1.2)\n",
            "Requirement already satisfied: decorator<5,>=4.3 in /usr/local/lib/python3.7/dist-packages (from networkx->yake) (4.4.2)\n",
            "Requirement already satisfied: regex in /usr/local/lib/python3.7/dist-packages (from segtok->yake) (2019.12.20)\n",
            "Building wheels for collected packages: segtok\n",
            "  Building wheel for segtok (setup.py) ... \u001b[?25l\u001b[?25hdone\n",
            "  Created wheel for segtok: filename=segtok-1.5.10-cp37-none-any.whl size=25031 sha256=137c3dc99eeaac16085de439b36bf0f0f5c017b9742e4b0ab67519fd7adacc21\n",
            "  Stored in directory: /root/.cache/pip/wheels/b4/39/f6/9ca1c5cabde964d728023b5751c3a206a5c8cc40252321fb6b\n",
            "Successfully built segtok\n",
            "Installing collected packages: jellyfish, segtok, yake\n",
            "Successfully installed jellyfish-0.8.2 segtok-1.5.10 yake-0.4.8\n"
          ],
          "name": "stdout"
        }
      ]
    },
    {
      "cell_type": "code",
      "metadata": {
        "colab": {
          "base_uri": "https://localhost:8080/"
        },
        "id": "6D_tvv3KoIhF",
        "outputId": "290b8389-f237-4c98-c0b1-e0c558797e2e"
      },
      "source": [
        "#Extract Keywords from Job Description\n",
        "import yake\n",
        "\n",
        "jobtxt = open(\"shjobdescription.txt\").read().replace(\"\\n\",\" \")\n",
        "\n",
        "\n",
        "kw_extractor = yake.KeywordExtractor()\n",
        "language = \"en\"\n",
        "max_ngram_size = 3\n",
        "deduplication_threshold = 0.9\n",
        "numofkeywords = 20\n",
        "custom_kw_extractor = yake.KeywordExtractor(lan=language, n = max_ngram_size, dedupLim=deduplication_threshold, top=numofkeywords, features=None)\n",
        "\n",
        "keywords = custom_kw_extractor.extract_keywords(jobtxt)\n",
        "\n",
        "for kw in  keywords:\n",
        "  print(kw)"
      ],
      "execution_count": 28,
      "outputs": [
        {
          "output_type": "stream",
          "text": [
            "('training', 0.04690543642803936)\n",
            "('Human resources', 0.05257285358144392)\n",
            "('responsible for hiring', 0.05577066342495573)\n",
            "('employers', 0.0726809207807207)\n",
            "('skills', 0.0732713414070765)\n",
            "('Management', 0.07343140455773686)\n",
            "('Typical employers', 0.07551308766208828)\n",
            "('staff', 0.08014911186952778)\n",
            "('CIPD qualification', 0.08583693668674)\n",
            "('CIPD', 0.0860565303562842)\n",
            "('personnel', 0.08951110916596781)\n",
            "('officers', 0.09491349817676008)\n",
            "('officer', 0.09491349817676008)\n",
            "('Chartered Institute', 0.099163231907698)\n",
            "('employees', 0.10261510290172426)\n",
            "('work', 0.10343167134556526)\n",
            "('Typical', 0.10588400645356802)\n",
            "('qualification', 0.10641274475324654)\n",
            "('career', 0.11477481045946093)\n",
            "('organisations', 0.11953314476518014)\n"
          ],
          "name": "stdout"
        }
      ]
    },
    {
      "cell_type": "code",
      "metadata": {
        "id": "NTwfgi0Tk_iL"
      },
      "source": [
        "# Extract Skills\n"
      ],
      "execution_count": null,
      "outputs": []
    }
  ]
}